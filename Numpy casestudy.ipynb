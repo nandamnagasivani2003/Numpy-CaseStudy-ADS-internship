{
 "cells": [
  {
   "cell_type": "code",
   "execution_count": 2,
   "id": "fba77c3d",
   "metadata": {},
   "outputs": [
    {
     "name": "stdout",
     "output_type": "stream",
     "text": [
      "1D array\n",
      "[1 2 3 4 5]\n",
      "2D array\n",
      "[[1 2 3]\n",
      " [4 5 6]]\n",
      "3D array\n",
      "[[[1 2 3]\n",
      "  [4 5 6]]\n",
      "\n",
      " [[4 3 4]\n",
      "  [2 3 4]]]\n",
      "[[0. 0. 0. 0.]\n",
      " [0. 0. 0. 0.]\n",
      " [0. 0. 0. 0.]]\n",
      "[[1. 1.]\n",
      " [1. 1.]]\n",
      "[5 7 9]\n",
      "[[ 5 12]\n",
      " [21 32]]\n",
      "[[19 22]\n",
      " [43 50]]\n"
     ]
    }
   ],
   "source": [
    "#Numpy case study -ADS virtual Internship\n",
    "import numpy as np\n",
    "\n",
    "#create a 1D array\n",
    "print(\"1D array\")\n",
    "a=np.array([1,2,3,4,5])\n",
    "print(a)\n",
    "\n",
    "#create a 2D array\n",
    "\n",
    "print(\"2D array\")\n",
    "b=np.array([[1,2,3],[4,5,6]])\n",
    "print(b)\n",
    "\n",
    "#create a 3D array\n",
    "\n",
    "print(\"3D array\")\n",
    "c=np.array([[[1,2,3],[4,5,6]],[[4,3,4],[2,3,4]]])\n",
    "print(c)\n",
    "\n",
    "#create an array of zeros\n",
    "c=np.zeros((3,4))\n",
    "print(c)\n",
    "\n",
    "#create an array of ones\n",
    "\n",
    "d=np.ones((2,2))\n",
    "print(d)\n",
    "\n",
    "#mathematical operations on numpy\n",
    "a=np.array([1,2,3])\n",
    "b=np.array([4,5,6])\n",
    "c=a+b\n",
    "print(c)\n",
    "\n",
    "#multiply two arrays\n",
    "d=np.array([[1,2],[3,4]])\n",
    "e=np.array([[5,6],[7,8]])\n",
    "f=d*e\n",
    "print(f)\n",
    "\n",
    "#matrix multiplication\n",
    "d=np.array([[1,2],[3,4]])\n",
    "e=np.array([[5,6],[7,8]])\n",
    "i=np.dot(d,e)\n",
    "print(i)\n",
    "\n",
    "\n"
   ]
  },
  {
   "cell_type": "code",
   "execution_count": null,
   "id": "61b03304",
   "metadata": {},
   "outputs": [],
   "source": []
  }
 ],
 "metadata": {
  "kernelspec": {
   "display_name": "Python 3 (ipykernel)",
   "language": "python",
   "name": "python3"
  },
  "language_info": {
   "codemirror_mode": {
    "name": "ipython",
    "version": 3
   },
   "file_extension": ".py",
   "mimetype": "text/x-python",
   "name": "python",
   "nbconvert_exporter": "python",
   "pygments_lexer": "ipython3",
   "version": "3.10.5"
  }
 },
 "nbformat": 4,
 "nbformat_minor": 5
}
